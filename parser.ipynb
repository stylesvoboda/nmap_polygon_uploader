{
 "cells": [
  {
   "cell_type": "code",
   "id": "fbc121e30a2defb3",
   "metadata": {},
   "source": [
    "import geopandas as gpd\n",
    "import json\n",
    "import uuid\n",
    "import os\n",
    "\n",
    "from utils.settings import *\n",
    "from datetime import datetime\n",
    "from utils.upload_ydisk import check_folder_exists, upload_to_ydisk, check_and_create_root_folder, \\\n",
    "    check_or_create_data_folder\n",
    "\n",
    "# from utils.download_ydisk import download_index_json_if_exists"
   ],
   "outputs": [],
   "execution_count": null
  },
  {
   "cell_type": "code",
   "id": "eb6ece60672f040a",
   "metadata": {},
   "source": [
    "nmap_data_folder = datetime.now().strftime(\"%Y-%m-%d\")\n",
    "print(f\"Папка для текущей даты: {nmap_data_folder}\")"
   ],
   "outputs": [],
   "execution_count": null
  },
  {
   "metadata": {},
   "cell_type": "code",
   "source": [
    "def read_and_remove_archive(def_shp_data, def_shp_name):\n",
    "    try:\n",
    "        gdf = gpd.read_file(f\"zip://{def_shp_data}!{def_shp_name}\", encoding=\"utf-8\")\n",
    "\n",
    "        try:\n",
    "            os.remove(def_shp_data)\n",
    "            print(\"Shapefile обработан и удалён.\")\n",
    "        except FileNotFoundError:\n",
    "            print(\"Shapefile для удаления не обнаружен.\")\n",
    "\n",
    "        return gdf\n",
    "\n",
    "    except Exception as err:\n",
    "        print(f\"Ошибка при чтении Shapefile: {err}\")\n",
    "        return None"
   ],
   "id": "33be09c7497f5362",
   "outputs": [],
   "execution_count": null
  },
  {
   "metadata": {},
   "cell_type": "code",
   "source": [
    "gdf = read_and_remove_archive(def_shp_data, def_shp_name)\n",
    "\n",
    "if gdf is not None:\n",
    "    print(\"Данные успешно загружены\")\n",
    "else:\n",
    "    print(\"Ошибка при загрузке данных\")"
   ],
   "id": "d6ad0ab8bbb0354f",
   "outputs": [],
   "execution_count": null
  },
  {
   "metadata": {},
   "cell_type": "code",
   "source": [
    "def extract_geometry(geometry):\n",
    "    geom_type = geometry.geom_type\n",
    "\n",
    "    if geom_type == 'Polygon':\n",
    "        return [\n",
    "            [list(coord) for coord in geometry.exterior.coords],\n",
    "            *[[list(coord) for coord in interior.coords] for interior in geometry.interiors]\n",
    "        ]\n",
    "    elif geom_type == 'MultiPolygon':\n",
    "        return [\n",
    "            [\n",
    "                [list(coord) for coord in poly.exterior.coords],\n",
    "                *[[list(coord) for coord in interior.coords] for interior in poly.interiors]\n",
    "            ]\n",
    "            for poly in geometry.geoms\n",
    "        ]\n",
    "    elif geom_type == 'LineString':\n",
    "        return [list(coord) for coord in geometry.coords]\n",
    "    elif geom_type == 'MultiLineString':\n",
    "        return [list(list(coords) for coords in line.coords) for line in geometry.geoms]\n",
    "    elif geom_type == 'Point':\n",
    "        return list(geometry.coords[0])\n",
    "    elif geom_type == 'MultiPoint':\n",
    "        return [list(point.coords[0]) for point in geometry.geoms]\n",
    "    elif geom_type == 'GeometryCollection':\n",
    "        result = []\n",
    "        for geom in geometry.geoms:\n",
    "            try:\n",
    "                result.append(extract_geometry(geom))\n",
    "            except ValueError:\n",
    "                continue\n",
    "        return result\n",
    "    else:\n",
    "        raise ValueError(f\"Неподдерживаемый тип геометрии: {geom_type}\")"
   ],
   "id": "65750900bc0b80a7",
   "outputs": [],
   "execution_count": null
  },
  {
   "metadata": {},
   "cell_type": "code",
   "source": [
    "output = {\n",
    "    \"paths\": {},\n",
    "    \"points\": {}\n",
    "}"
   ],
   "id": "3c686153bcf51e9b",
   "outputs": [],
   "execution_count": null
  },
  {
   "metadata": {},
   "cell_type": "code",
   "source": [
    "for _, row in gdf.iterrows():\n",
    "    try:\n",
    "        geom = row.geometry\n",
    "        geom_type = geom.geom_type\n",
    "\n",
    "        if geom_type == 'Polygon':\n",
    "            # Внешний контур как LineString\n",
    "            exterior_coords = [list(coord) for coord in geom.exterior.coords]\n",
    "            poly_uuid = str(uuid.uuid4())\n",
    "            output[\"paths\"][poly_uuid] = exterior_coords\n",
    "            # Внутренние контуры как отдельные LineString\n",
    "            for interior in geom.interiors:\n",
    "                interior_coords = [list(coord) for coord in interior.coords]\n",
    "                interior_uuid = str(uuid.uuid4())\n",
    "                output[\"paths\"][interior_uuid] = interior_coords\n",
    "\n",
    "        elif geom_type == 'MultiPolygon':\n",
    "            for poly in geom.geoms:\n",
    "                # Внешний контур как LineString\n",
    "                exterior_coords = [list(coord) for coord in poly.exterior.coords]\n",
    "                poly_uuid = str(uuid.uuid4())\n",
    "                output[\"paths\"][poly_uuid] = exterior_coords\n",
    "                # Внутренние контуры как отдельные LineString\n",
    "                for interior in poly.interiors:\n",
    "                    interior_coords = [list(coord) for coord in interior.coords]\n",
    "                    interior_uuid = str(uuid.uuid4())\n",
    "                    output[\"paths\"][interior_uuid] = interior_coords\n",
    "\n",
    "        elif geom_type in ['LineString', 'MultiLineString', 'GeometryCollection']:\n",
    "            coords = extract_geometry(geom)\n",
    "            if isinstance(coords[0], list):\n",
    "                for path_coords in coords:\n",
    "                    poly_uuid = str(uuid.uuid4())\n",
    "                    output[\"paths\"][poly_uuid] = [path_coords]\n",
    "            else:\n",
    "                poly_uuid = str(uuid.uuid4())\n",
    "                output[\"paths\"][poly_uuid] = [coords]\n",
    "\n",
    "        elif geom_type in ['Point', 'MultiPoint']:\n",
    "            coords = extract_geometry(geom)\n",
    "            if isinstance(coords[0], list):\n",
    "                for point_coords in coords:\n",
    "                    point_uuid = str(uuid.uuid4())\n",
    "                    output[\"points\"][point_uuid] = point_coords\n",
    "            else:\n",
    "                point_uuid = str(uuid.uuid4())\n",
    "                output[\"points\"][point_uuid] = coords\n",
    "\n",
    "    except ValueError as e:\n",
    "        print(f\"Пропущена геометрия: {e}\")\n",
    "    except Exception as e:\n",
    "        print(f\"Ошибка при обработке строки: {e}\")"
   ],
   "id": "361eb57cfdc9d95d",
   "outputs": [],
   "execution_count": null
  },
  {
   "metadata": {},
   "cell_type": "code",
   "source": [
    "with open(\"index.json\", \"w\", encoding=\"utf-8\") as f:\n",
    "    json.dump(output, f, ensure_ascii=False, indent=4)"
   ],
   "id": "41fc330f46c9c2e8",
   "outputs": [],
   "execution_count": null
  },
  {
   "cell_type": "code",
   "id": "15dcfe6db2c8dda",
   "metadata": {},
   "source": [
    "check_and_create_root_folder(\n",
    "    nmap_app_path,\n",
    "    ydex_api_key,\n",
    "    ydex_api_path\n",
    ")"
   ],
   "outputs": [],
   "execution_count": null
  },
  {
   "cell_type": "code",
   "id": "5b3afe5fcc3bc5f8",
   "metadata": {},
   "source": [
    "check_or_create_data_folder(\n",
    "    nmap_app_path,\n",
    "    nmap_data_folder,\n",
    "    ydex_api_key,\n",
    "    ydex_api_path\n",
    ")"
   ],
   "outputs": [],
   "execution_count": null
  },
  {
   "cell_type": "code",
   "id": "72a1f10036e71975",
   "metadata": {},
   "source": [
    "upload_to_ydisk(\n",
    "    nmap_data,\n",
    "    nmap_app_path,\n",
    "    nmap_data_folder,\n",
    "    ydex_api_key,\n",
    "    ydex_api_path\n",
    ")"
   ],
   "outputs": [],
   "execution_count": null
  },
  {
   "cell_type": "code",
   "id": "b22be11e1e256bd9",
   "metadata": {},
   "source": [
    "# download_index_json_if_exists(\n",
    "#     ydex_api_key,\n",
    "#     nmap_app_path,\n",
    "#     nmap_data_FOLDER,\n",
    "#     os.path.join(os.getcwd(), \"index.json\"),\n",
    "#     ydex_api_path\n",
    "# )"
   ],
   "outputs": [],
   "execution_count": null
  }
 ],
 "metadata": {
  "kernelspec": {
   "display_name": ".venv",
   "language": "python",
   "name": "python3"
  },
  "language_info": {
   "codemirror_mode": {
    "name": "ipython",
    "version": 3
   },
   "file_extension": ".py",
   "mimetype": "text/x-python",
   "name": "python",
   "nbconvert_exporter": "python",
   "pygments_lexer": "ipython3",
   "version": "3.13.0"
  }
 },
 "nbformat": 4,
 "nbformat_minor": 5
}
