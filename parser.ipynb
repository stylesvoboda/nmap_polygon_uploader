{
 "cells": [
  {
   "cell_type": "code",
   "id": "fbc121e30a2defb3",
   "metadata": {
    "ExecuteTime": {
     "end_time": "2025-07-03T19:25:24.524036Z",
     "start_time": "2025-07-03T19:25:24.516680Z"
    }
   },
   "source": [
    "import geopandas as gpd\n",
    "import requests\n",
    "import json\n",
    "import uuid\n",
    "import os\n",
    "from dotenv import load_dotenv, find_dotenv\n",
    "from datetime import datetime"
   ],
   "outputs": [],
   "execution_count": 8
  },
  {
   "cell_type": "code",
   "id": "ba56d91924a10efa",
   "metadata": {
    "ExecuteTime": {
     "end_time": "2025-07-03T19:25:24.564678Z",
     "start_time": "2025-07-03T19:25:24.555549Z"
    }
   },
   "source": [
    "load_dotenv(find_dotenv())\n",
    "archive_path = os.getenv('ZIP_PATH')\n",
    "file_path = os.getenv('SHP_PATH')\n",
    "disk_token = os.getenv('YD_TOKEN')\n",
    "local_file_path = os.getenv(\"LOCAL_DATA\")\n",
    "remote_file_path = os.getenv(\"REMOTE_DATA\")\n",
    "disk_base_folder = os.getenv(\"FOLDER_PATH\")\n",
    "disk_base_url = os.getenv(\"BASE_URL\")"
   ],
   "outputs": [],
   "execution_count": 9
  },
  {
   "cell_type": "code",
   "id": "33be09c7497f5362",
   "metadata": {
    "ExecuteTime": {
     "end_time": "2025-07-03T19:25:24.610573Z",
     "start_time": "2025-07-03T19:25:24.607011Z"
    }
   },
   "source": [
    "def read_and_remove_archive(archive_path, file_path):\n",
    "    try:\n",
    "        gdf = gpd.read_file(f\"zip://{archive_path}!{file_path}\", encoding=\"utf-8\")\n",
    "\n",
    "        if os.path.exists(archive_path):\n",
    "            os.remove(archive_path)\n",
    "            print(\"Shapefile обработан и удалён.\")\n",
    "        else:\n",
    "            print(\"Shapefile для удаления не обнаружен.\")\n",
    "\n",
    "        return gdf\n",
    "    except Exception as err:\n",
    "        print(f\"Ошибка при чтении Shapefile: {err}\")\n",
    "        return None"
   ],
   "outputs": [],
   "execution_count": 10
  },
  {
   "cell_type": "code",
   "id": "d6ad0ab8bbb0354f",
   "metadata": {
    "ExecuteTime": {
     "end_time": "2025-07-03T19:25:24.772843Z",
     "start_time": "2025-07-03T19:25:24.714902Z"
    }
   },
   "source": [
    "gdf = read_and_remove_archive(archive_path, file_path)\n",
    "\n",
    "if gdf is not None:\n",
    "    print(\"Данные успешно загружены\")"
   ],
   "outputs": [
    {
     "name": "stdout",
     "output_type": "stream",
     "text": [
      "Shapefile обработан и удалён.\n",
      "Данные успешно загружены\n"
     ]
    }
   ],
   "execution_count": 11
  },
  {
   "cell_type": "code",
   "id": "65750900bc0b80a7",
   "metadata": {
    "ExecuteTime": {
     "end_time": "2025-07-03T19:25:24.824414Z",
     "start_time": "2025-07-03T19:25:24.819382Z"
    }
   },
   "source": [
    "def extract_geometry(geometry):\n",
    "    geom_type = geometry.geom_type\n",
    "\n",
    "    if geom_type == 'Polygon':\n",
    "        return [\n",
    "            [list(coord) for coord in geometry.exterior.coords],\n",
    "            *[[list(coord) for coord in interior.coords] for interior in geometry.interiors]\n",
    "        ]\n",
    "    elif geom_type == 'MultiPolygon':\n",
    "        return [\n",
    "            [\n",
    "                [list(coord) for coord in poly.exterior.coords],\n",
    "                *[[list(coord) for coord in interior.coords] for interior in poly.interiors]\n",
    "            ]\n",
    "            for poly in geometry.geoms\n",
    "        ]\n",
    "    elif geom_type == 'LineString':\n",
    "        return [list(coord) for coord in geometry.coords]\n",
    "    elif geom_type == 'MultiLineString':\n",
    "        return [list(list(coords) for coords in line.coords) for line in geometry.geoms]\n",
    "    elif geom_type == 'Point':\n",
    "        return list(geometry.coords[0])\n",
    "    elif geom_type == 'MultiPoint':\n",
    "        return [list(point.coords[0]) for point in geometry.geoms]\n",
    "    elif geom_type == 'GeometryCollection':\n",
    "        result = []\n",
    "        for geom in geometry.geoms:\n",
    "            try:\n",
    "                result.append(extract_geometry(geom))\n",
    "            except ValueError:\n",
    "                continue\n",
    "        return result\n",
    "    else:\n",
    "        raise ValueError(f\"Неподдерживаемый тип геометрии: {geom_type}\")"
   ],
   "outputs": [],
   "execution_count": 12
  },
  {
   "cell_type": "code",
   "id": "3c686153bcf51e9b",
   "metadata": {
    "ExecuteTime": {
     "end_time": "2025-07-03T19:25:24.893506Z",
     "start_time": "2025-07-03T19:25:24.890746Z"
    }
   },
   "source": [
    "output = {\n",
    "    \"paths\": {},\n",
    "    \"points\": {}\n",
    "}"
   ],
   "outputs": [],
   "execution_count": 13
  },
  {
   "cell_type": "code",
   "id": "361eb57cfdc9d95d",
   "metadata": {
    "ExecuteTime": {
     "end_time": "2025-07-03T19:25:25.007480Z",
     "start_time": "2025-07-03T19:25:24.985773Z"
    }
   },
   "source": [
    "for _, row in gdf.iterrows():\n",
    "    try:\n",
    "        geom = row.geometry\n",
    "        geom_type = geom.geom_type\n",
    "\n",
    "        if geom_type in ['Polygon', 'MultiPolygon']:\n",
    "            coords = extract_geometry(geom)\n",
    "            if isinstance(coords[0], list):\n",
    "                for poly_data in coords:\n",
    "                    poly_uuid = str(uuid.uuid4())\n",
    "                    output[\"paths\"][poly_uuid] = poly_data\n",
    "            else:\n",
    "                poly_uuid = str(uuid.uuid4())\n",
    "                output[\"paths\"][poly_uuid] = coords\n",
    "\n",
    "        elif geom_type in ['LineString', 'MultiLineString', 'GeometryCollection']:\n",
    "            coords = extract_geometry(geom)\n",
    "            if isinstance(coords[0], list):\n",
    "                for path_coords in coords:\n",
    "                    poly_uuid = str(uuid.uuid4())\n",
    "                    output[\"paths\"][poly_uuid] = [path_coords]\n",
    "            else:\n",
    "                poly_uuid = str(uuid.uuid4())\n",
    "                output[\"paths\"][poly_uuid] = [coords]\n",
    "\n",
    "        elif geom_type in ['Point', 'MultiPoint']:\n",
    "            coords = extract_geometry(geom)\n",
    "            if isinstance(coords[0], list):\n",
    "                for point_coords in coords:\n",
    "                    point_uuid = str(uuid.uuid4())\n",
    "                    output[\"points\"][point_uuid] = point_coords\n",
    "            else:\n",
    "                point_uuid = str(uuid.uuid4())\n",
    "                output[\"points\"][point_uuid] = coords\n",
    "\n",
    "    except ValueError as e:\n",
    "        print(f\"Пропущена геометрия: {e}\")\n",
    "    except Exception as e:\n",
    "        print(f\"Ошибка при обработке строки: {e}\")"
   ],
   "outputs": [],
   "execution_count": 14
  },
  {
   "cell_type": "code",
   "id": "41fc330f46c9c2e8",
   "metadata": {
    "ExecuteTime": {
     "end_time": "2025-07-03T19:25:25.060348Z",
     "start_time": "2025-07-03T19:25:25.052568Z"
    }
   },
   "source": [
    "with open(\"index.json\", \"w\", encoding=\"utf-8\") as f:\n",
    "    json.dump(output, f, ensure_ascii=False, indent=4)"
   ],
   "outputs": [],
   "execution_count": 15
  },
  {
   "metadata": {
    "ExecuteTime": {
     "end_time": "2025-07-03T19:25:25.080698Z",
     "start_time": "2025-07-03T19:25:25.078700Z"
    }
   },
   "cell_type": "code",
   "source": "current_date_folder = datetime.now().strftime(\"%Y-%m-%d\")",
   "id": "eb6ece60672f040a",
   "outputs": [],
   "execution_count": 16
  },
  {
   "metadata": {
    "ExecuteTime": {
     "end_time": "2025-07-03T19:25:25.108305Z",
     "start_time": "2025-07-03T19:25:25.105517Z"
    }
   },
   "cell_type": "code",
   "source": [
    "def check_and_create_root_folder(disk_base_url, disk_base_folder, disk_token):\n",
    "    headers = {\"Authorization\": f\"OAuth {disk_token}\"}\n",
    "\n",
    "    response = requests.get(f'{disk_base_url}?path={disk_base_folder}', headers=headers)\n",
    "\n",
    "    if response.status_code == 200:\n",
    "        print(\"Папка уже существует.\")\n",
    "        return True\n",
    "\n",
    "    elif response.status_code == 404:\n",
    "        response = requests.put(f'{disk_base_url}?path={disk_base_folder}', headers=headers)\n",
    "\n",
    "        if response.status_code == 201:\n",
    "            print(\"Папка успешно создана.\")\n",
    "            return True\n",
    "        else:\n",
    "            print(f\"Ошибка при создании папки: {response.json()}\")\n",
    "            return False\n",
    "    else:\n",
    "        print(f\"Ошибка при проверке папки: {response.json()}\")\n",
    "        return False"
   ],
   "id": "22b965c9e83cd736",
   "outputs": [],
   "execution_count": 17
  },
  {
   "metadata": {
    "ExecuteTime": {
     "end_time": "2025-07-03T19:25:26.508227Z",
     "start_time": "2025-07-03T19:25:25.131717Z"
    }
   },
   "cell_type": "code",
   "source": "check_and_create_root_folder(disk_base_url, disk_base_folder, disk_token)",
   "id": "3c0822935ebbb0a1",
   "outputs": [
    {
     "name": "stdout",
     "output_type": "stream",
     "text": [
      "Папка уже существует.\n"
     ]
    },
    {
     "data": {
      "text/plain": [
       "True"
      ]
     },
     "execution_count": 18,
     "metadata": {},
     "output_type": "execute_result"
    }
   ],
   "execution_count": 18
  },
  {
   "cell_type": "code",
   "id": "8f9acf9c2705810d",
   "metadata": {
    "ExecuteTime": {
     "end_time": "2025-07-03T19:25:26.515752Z",
     "start_time": "2025-07-03T19:25:26.513409Z"
    }
   },
   "source": [
    "def check_or_create_folder(disk_token, disk_base_folder, current_date_folder):\n",
    "    headers = {\"Authorization\": f\"OAuth {disk_token}\"}\n",
    "    full_path = f\"{disk_base_folder}/{current_date_folder}\"\n",
    "\n",
    "    response = requests.get(f\"{disk_base_url}?path={full_path}\", headers=headers)\n",
    "\n",
    "    if response.status_code == 200:\n",
    "        return True\n",
    "\n",
    "    elif response.status_code == 404:\n",
    "        response = requests.put(f\"{disk_base_url}?path={full_path}\", headers=headers)\n",
    "\n",
    "        if response.status_code == 201:\n",
    "            print(f\"На диске создана папка {full_path}\")\n",
    "            return True\n",
    "\n",
    "    print(f\"Ошибка при работе с папкой: {response.json()}\")\n",
    "    return False"
   ],
   "outputs": [],
   "execution_count": 19
  },
  {
   "cell_type": "code",
   "id": "1341a7308d0e38b4",
   "metadata": {
    "ExecuteTime": {
     "end_time": "2025-07-03T19:25:27.733473Z",
     "start_time": "2025-07-03T19:25:26.550267Z"
    }
   },
   "source": "check_or_create_folder(disk_token, disk_base_folder, current_date_folder)",
   "outputs": [
    {
     "data": {
      "text/plain": [
       "True"
      ]
     },
     "execution_count": 20,
     "metadata": {},
     "output_type": "execute_result"
    }
   ],
   "execution_count": 20
  },
  {
   "cell_type": "code",
   "id": "d006cc7a4ebd0b72",
   "metadata": {
    "ExecuteTime": {
     "end_time": "2025-07-03T19:25:27.749243Z",
     "start_time": "2025-07-03T19:25:27.746484Z"
    }
   },
   "source": [
    "def upload_to_ydisk(local_file_path, disk_base_folder, disk_token):\n",
    "    headers = {\"Authorization\": f\"OAuth {disk_token}\"}\n",
    "    file_name = os.path.basename(local_file_path)\n",
    "\n",
    "    params = {\n",
    "        \"path\": f\"{disk_base_folder}/{current_date_folder}/{file_name}\",\n",
    "        \"overwrite\": \"true\"\n",
    "    }\n",
    "\n",
    "    response = requests.get(f\"{disk_base_url}/upload\", headers=headers, params=params)\n",
    "\n",
    "    if response.status_code != 200:\n",
    "        print(\"Ошибка при получении ссылки:\", response.json())\n",
    "        return False\n",
    "\n",
    "    upload_href = response.json()[\"href\"]\n",
    "\n",
    "    with open(local_file_path, \"rb\") as file:\n",
    "        upload_response = requests.put(upload_href, data=file)\n",
    "\n",
    "    if upload_response.status_code == 201:\n",
    "        print(\"Геометрия загружена в блокнот картографа!\")\n",
    "\n",
    "        try:\n",
    "            os.remove(local_file_path)\n",
    "        except OSError as e:\n",
    "            print(f\"Ошибка при удалении файла: {e}\")\n",
    "        return True\n",
    "\n",
    "    else:\n",
    "        print(\"Ошибка при загрузке в блокнот картографа:\", upload_response.text)\n",
    "        return False"
   ],
   "outputs": [],
   "execution_count": 21
  },
  {
   "cell_type": "code",
   "id": "6dc6901c993c56ed",
   "metadata": {
    "ExecuteTime": {
     "end_time": "2025-07-03T19:25:35.925810Z",
     "start_time": "2025-07-03T19:25:27.773983Z"
    }
   },
   "source": "upload_to_ydisk(local_file_path, disk_base_folder, disk_token)",
   "outputs": [
    {
     "name": "stdout",
     "output_type": "stream",
     "text": [
      "Геометрия загружена в блокнот картографа!\n"
     ]
    },
    {
     "data": {
      "text/plain": [
       "True"
      ]
     },
     "execution_count": 22,
     "metadata": {},
     "output_type": "execute_result"
    }
   ],
   "execution_count": 22
  }
 ],
 "metadata": {
  "kernelspec": {
   "display_name": "Python 3 (ipykernel)",
   "language": "python",
   "name": "python3"
  },
  "language_info": {
   "codemirror_mode": {
    "name": "ipython",
    "version": 3
   },
   "file_extension": ".py",
   "mimetype": "text/x-python",
   "name": "python",
   "nbconvert_exporter": "python",
   "pygments_lexer": "ipython3",
   "version": "3.13.0"
  }
 },
 "nbformat": 4,
 "nbformat_minor": 5
}
