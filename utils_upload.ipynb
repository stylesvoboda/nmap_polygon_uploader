{
 "cells": [
  {
   "metadata": {},
   "cell_type": "code",
   "source": [
    "def check_folder_exists(disk_token, path):\n",
    "    headers = {\"Authorization\": f\"OAuth {disk_token}\"}\n",
    "    params = {\"path\": path}\n",
    "\n",
    "    response = requests.get(f\"{disk_base_url}\", headers=headers, params=params)\n",
    "\n",
    "    if response.status_code == 200:\n",
    "        return True\n",
    "    elif response.status_code == 404:\n",
    "        response = requests.put(f\"{disk_base_url}\", headers=headers, params=params)\n",
    "        if response.status_code == 201:\n",
    "            print(f\"Папка '{path}' успешно создана.\")\n",
    "            return True\n",
    "        else:\n",
    "            print(f\"Ошибка при создании папки '{path}': {response.json()}\")\n",
    "            return False\n",
    "    else:\n",
    "        print(f\"Ошибка при проверке папки '{path}': {response.json()}\")\n",
    "        return False"
   ],
   "id": "7fd79f356f0e2101",
   "outputs": [],
   "execution_count": null
  },
  {
   "metadata": {},
   "cell_type": "code",
   "source": [
    "def upload_to_ydisk(local_file_path, disk_base_folder, current_date_folder, disk_token):\n",
    "    file_name = os.path.basename(local_file_path)\n",
    "    disk_path = f\"{disk_base_folder}/{current_date_folder}/{file_name}\"\n",
    "\n",
    "    print(disk_path)\n",
    "\n",
    "    headers = {\"Authorization\": f\"OAuth {disk_token}\"}\n",
    "    params = {\"path\": disk_path, \"overwrite\": \"true\"}\n",
    "\n",
    "    response = requests.get(f\"{disk_base_url}/upload\", headers=headers, params=params)\n",
    "\n",
    "    if response.status_code != 200:\n",
    "        print(\"Ошибка получения ссылки для загрузки:\", response.json())\n",
    "        return False\n",
    "\n",
    "    upload_href = response.json()[\"href\"]\n",
    "\n",
    "    with open(local_file_path, \"rb\") as file_data:\n",
    "        upload_response = requests.put(upload_href, data=file_data)\n",
    "\n",
    "    if upload_response.status_code == 201:\n",
    "        print(f\"Файл '{file_name}' успешно загружен на Яндекс.Диск.\")\n",
    "\n",
    "        try:\n",
    "            os.remove(local_file_path)\n",
    "            print(f\"Локальный файл '{local_file_path}' удален.\")\n",
    "        except OSError as e:\n",
    "            print(f\"Ошибка при удалении файла '{local_file_path}': {e}\")\n",
    "\n",
    "        return True\n",
    "    else:\n",
    "        print(f\"Ошибка при загрузке файла '{file_name}': {upload_response.text}\")\n",
    "        return False"
   ],
   "id": "86ca301ed261bf41",
   "outputs": [],
   "execution_count": null
  },
  {
   "metadata": {},
   "cell_type": "code",
   "source": [
    "def check_and_create_root_folder(disk_base_folder, disk_token):\n",
    "    return check_folder_exists(disk_token, disk_base_folder)"
   ],
   "id": "b3fb06b0370e4590",
   "outputs": [],
   "execution_count": null
  },
  {
   "metadata": {},
   "cell_type": "code",
   "source": [
    "def check_or_create_data_folder(disk_base_folder, current_date_folder, disk_token):\n",
    "    full_path = f\"{disk_base_folder}/{current_date_folder}\"\n",
    "    print(full_path)\n",
    "    return check_folder_exists(disk_token, full_path)"
   ],
   "id": "228ece203a97b52d",
   "outputs": [],
   "execution_count": null
  }
 ],
 "metadata": {},
 "nbformat": 4,
 "nbformat_minor": 5
}
